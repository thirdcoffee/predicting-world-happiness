{
 "cells": [
  {
   "attachments": {},
   "cell_type": "markdown",
   "metadata": {},
   "source": [
    "# Imports & variable definitions"
   ]
  },
  {
   "cell_type": "code",
   "execution_count": 1,
   "metadata": {},
   "outputs": [],
   "source": [
    "import pandas as pd\n",
    "import numpy as np\n",
    "import matplotlib.pyplot as plt\n",
    "import seaborn as sns\n",
    "import sklearn as sk\n",
    "import os\n",
    "\n",
    "from sklearn.ensemble import RandomForestRegressor"
   ]
  },
  {
   "cell_type": "code",
   "execution_count": 2,
   "metadata": {},
   "outputs": [],
   "source": [
    "country_set = ['South Africa', 'Nigeria', 'India', 'China', 'Japan', \n",
    "               'South Korea', 'Germany', 'Poland', 'France', 'United Kingdom', \n",
    "               'Finland', 'Brazil', 'Bolivia', 'Colombia', 'Saudi Arabia', 'Iran', \n",
    "               'Egypt', 'United States', 'Canada', 'Mexico']\n",
    "\n",
    "start_year, end_year = 2015, 2021"
   ]
  },
  {
   "attachments": {},
   "cell_type": "markdown",
   "metadata": {},
   "source": [
    "# Happiness data input and preprocessing"
   ]
  },
  {
   "cell_type": "code",
   "execution_count": 3,
   "metadata": {},
   "outputs": [
    {
     "data": {
      "text/html": [
       "<div>\n",
       "<style scoped>\n",
       "    .dataframe tbody tr th:only-of-type {\n",
       "        vertical-align: middle;\n",
       "    }\n",
       "\n",
       "    .dataframe tbody tr th {\n",
       "        vertical-align: top;\n",
       "    }\n",
       "\n",
       "    .dataframe thead th {\n",
       "        text-align: right;\n",
       "    }\n",
       "</style>\n",
       "<table border=\"1\" class=\"dataframe\">\n",
       "  <thead>\n",
       "    <tr style=\"text-align: right;\">\n",
       "      <th></th>\n",
       "      <th>Country</th>\n",
       "      <th>Happiness Score</th>\n",
       "      <th>Year</th>\n",
       "    </tr>\n",
       "  </thead>\n",
       "  <tbody>\n",
       "    <tr>\n",
       "      <th>0</th>\n",
       "      <td>Switzerland</td>\n",
       "      <td>7.587</td>\n",
       "      <td>2015</td>\n",
       "    </tr>\n",
       "    <tr>\n",
       "      <th>1</th>\n",
       "      <td>Iceland</td>\n",
       "      <td>7.561</td>\n",
       "      <td>2015</td>\n",
       "    </tr>\n",
       "    <tr>\n",
       "      <th>2</th>\n",
       "      <td>Denmark</td>\n",
       "      <td>7.527</td>\n",
       "      <td>2015</td>\n",
       "    </tr>\n",
       "    <tr>\n",
       "      <th>3</th>\n",
       "      <td>Norway</td>\n",
       "      <td>7.522</td>\n",
       "      <td>2015</td>\n",
       "    </tr>\n",
       "    <tr>\n",
       "      <th>4</th>\n",
       "      <td>Canada</td>\n",
       "      <td>7.427</td>\n",
       "      <td>2015</td>\n",
       "    </tr>\n",
       "    <tr>\n",
       "      <th>...</th>\n",
       "      <td>...</td>\n",
       "      <td>...</td>\n",
       "      <td>...</td>\n",
       "    </tr>\n",
       "    <tr>\n",
       "      <th>1226</th>\n",
       "      <td>Benin</td>\n",
       "      <td>3.484</td>\n",
       "      <td>2016</td>\n",
       "    </tr>\n",
       "    <tr>\n",
       "      <th>1227</th>\n",
       "      <td>Afghanistan</td>\n",
       "      <td>3.360</td>\n",
       "      <td>2016</td>\n",
       "    </tr>\n",
       "    <tr>\n",
       "      <th>1228</th>\n",
       "      <td>Togo</td>\n",
       "      <td>3.303</td>\n",
       "      <td>2016</td>\n",
       "    </tr>\n",
       "    <tr>\n",
       "      <th>1229</th>\n",
       "      <td>Syria</td>\n",
       "      <td>3.069</td>\n",
       "      <td>2016</td>\n",
       "    </tr>\n",
       "    <tr>\n",
       "      <th>1230</th>\n",
       "      <td>Burundi</td>\n",
       "      <td>2.905</td>\n",
       "      <td>2016</td>\n",
       "    </tr>\n",
       "  </tbody>\n",
       "</table>\n",
       "<p>1231 rows × 3 columns</p>\n",
       "</div>"
      ],
      "text/plain": [
       "          Country  Happiness Score  Year\n",
       "0     Switzerland            7.587  2015\n",
       "1         Iceland            7.561  2015\n",
       "2         Denmark            7.527  2015\n",
       "3          Norway            7.522  2015\n",
       "4          Canada            7.427  2015\n",
       "...           ...              ...   ...\n",
       "1226        Benin            3.484  2016\n",
       "1227  Afghanistan            3.360  2016\n",
       "1228         Togo            3.303  2016\n",
       "1229        Syria            3.069  2016\n",
       "1230      Burundi            2.905  2016\n",
       "\n",
       "[1231 rows x 3 columns]"
      ]
     },
     "execution_count": 3,
     "metadata": {},
     "output_type": "execute_result"
    }
   ],
   "source": [
    "# Read in data\n",
    "happiness_data = {}\n",
    "\n",
    "for f in os.listdir('../data/WHI/'):\n",
    "    year = f.split('.')[0]\n",
    "    happiness_data[year] = pd.read_csv('../data/WHI/' + f)\n",
    "\n",
    "# Unify column names\n",
    "happiness_data['2017'].rename(columns={'Happiness.Score': 'Happiness Score'}, inplace=True)\n",
    "\n",
    "happiness_data['2018'].rename(columns={'Country or region':'Country',\n",
    "                        'Score':'Happiness Score'}, inplace=True)\n",
    "happiness_data['2019'].rename(columns={'Country or region':'Country',\n",
    "                        'Score':'Happiness Score'}, inplace=True)\n",
    "\n",
    "happiness_data['2020'].rename(columns={'Country name': 'Country',\n",
    "                        'Ladder score':'Happiness Score'}, inplace=True)\n",
    "happiness_data['2021'].rename(columns={'Country name': 'Country',\n",
    "                        'Ladder score':'Happiness Score'}, inplace=True)\n",
    "\n",
    "happiness_data['2022'].rename(columns={'Happiness score': 'Happiness Score'}, inplace=True)\n",
    "\n",
    "# Change number format for 2022 data to match other data\n",
    "happiness_data['2022']['Happiness Score'] = happiness_data['2022']['Happiness Score'].str.replace(',', '.').astype(float)\n",
    "\n",
    "# Remove every column except Country, Region and Happiness Score and add a column for the year\n",
    "for df in happiness_data:\n",
    "    happiness_data[df] = happiness_data[df][['Country', 'Happiness Score']]\n",
    "    happiness_data[df]['Year'] = df\n",
    "\n",
    "# Merge all years in one frame\n",
    "happiness_df = pd.concat(happiness_data, ignore_index=True)\n",
    "\n",
    "happiness_df"
   ]
  },
  {
   "cell_type": "code",
   "execution_count": 4,
   "metadata": {},
   "outputs": [
    {
     "data": {
      "text/html": [
       "<div>\n",
       "<style scoped>\n",
       "    .dataframe tbody tr th:only-of-type {\n",
       "        vertical-align: middle;\n",
       "    }\n",
       "\n",
       "    .dataframe tbody tr th {\n",
       "        vertical-align: top;\n",
       "    }\n",
       "\n",
       "    .dataframe thead th {\n",
       "        text-align: right;\n",
       "    }\n",
       "</style>\n",
       "<table border=\"1\" class=\"dataframe\">\n",
       "  <thead>\n",
       "    <tr style=\"text-align: right;\">\n",
       "      <th></th>\n",
       "      <th>Country</th>\n",
       "      <th>Happiness Score</th>\n",
       "      <th>Year</th>\n",
       "    </tr>\n",
       "  </thead>\n",
       "  <tbody>\n",
       "    <tr>\n",
       "      <th>4</th>\n",
       "      <td>Canada</td>\n",
       "      <td>7.427</td>\n",
       "      <td>2015</td>\n",
       "    </tr>\n",
       "    <tr>\n",
       "      <th>116</th>\n",
       "      <td>India</td>\n",
       "      <td>4.565</td>\n",
       "      <td>2015</td>\n",
       "    </tr>\n",
       "    <tr>\n",
       "      <th>112</th>\n",
       "      <td>South Africa</td>\n",
       "      <td>4.642</td>\n",
       "      <td>2015</td>\n",
       "    </tr>\n",
       "    <tr>\n",
       "      <th>109</th>\n",
       "      <td>Iran</td>\n",
       "      <td>4.686</td>\n",
       "      <td>2015</td>\n",
       "    </tr>\n",
       "    <tr>\n",
       "      <th>83</th>\n",
       "      <td>China</td>\n",
       "      <td>5.140</td>\n",
       "      <td>2015</td>\n",
       "    </tr>\n",
       "  </tbody>\n",
       "</table>\n",
       "</div>"
      ],
      "text/plain": [
       "          Country  Happiness Score  Year\n",
       "4          Canada            7.427  2015\n",
       "116         India            4.565  2015\n",
       "112  South Africa            4.642  2015\n",
       "109          Iran            4.686  2015\n",
       "83          China            5.140  2015"
      ]
     },
     "execution_count": 4,
     "metadata": {},
     "output_type": "execute_result"
    }
   ],
   "source": [
    "# Remove invalid countries\n",
    "happiness_df.drop(happiness_df.loc[happiness_df['Country'] == 'xx'].index, inplace=True)\n",
    "\n",
    "# Convert Year to int\n",
    "happiness_df['Year'] = happiness_df['Year'].astype(int)\n",
    "\n",
    "# Filter to only include the countries we want to predict\n",
    "happiness_df = happiness_df.loc[happiness_df['Country'].isin(country_set)].copy()\n",
    "\n",
    "# Filter to 2015-2021\n",
    "happiness_df = happiness_df.loc[happiness_df['Year'].isin(range(start_year, end_year+1))]\n",
    "\n",
    "# Sort by year\n",
    "happiness_df.sort_values(by=['Year'], inplace=True)\n",
    "\n",
    "happiness_df.head()"
   ]
  },
  {
   "cell_type": "code",
   "execution_count": 5,
   "metadata": {},
   "outputs": [
    {
     "data": {
      "text/plain": [
       "<matplotlib.legend.Legend at 0x7fd538fd65f0>"
      ]
     },
     "execution_count": 5,
     "metadata": {},
     "output_type": "execute_result"
    },
    {
     "data": {
      "image/png": "[encoded data removed]",
      "text/plain": [
       "<Figure size 640x480 with 1 Axes>"
      ]
     },
     "metadata": {},
     "output_type": "display_data"
    }
   ],
   "source": [
    "# Plot data for each country\n",
    "hp_plt = sns.scatterplot(data=happiness_df, x='Year', y='Happiness Score', hue='Country')\n",
    "hp_plt.legend(bbox_to_anchor=(1.05, 1), loc='upper left', borderaxespad=0)"
   ]
  },
  {
   "cell_type": "code",
   "execution_count": 6,
   "metadata": {},
   "outputs": [],
   "source": [
    "#rng = np.random.RandomState(42) #Beispieldaten aus zwei Schwingungen\n",
    "#x = 10 * rng.rand(200)\n",
    "\n",
    "#def model(x, sigma=0.3):\n",
    "#    fast_oscillation = np.sin(5 * x)\n",
    "#    slow_oscillation = np.sin(0.5 * x)\n",
    "#    noise = sigma * rng.randn(len(x))\n",
    "#\n",
    "#    return slow_oscillation + fast_oscillation + noise\n",
    "\n",
    "#y = model(x)\n",
    "#plt.errorbar(x, y, 0.3, fmt='o'); # Konfidenzintervall"
   ]
  },
  {
   "attachments": {},
   "cell_type": "markdown",
   "metadata": {},
   "source": [
    "## Enrich happiness data"
   ]
  },
  {
   "attachments": {},
   "cell_type": "markdown",
   "metadata": {},
   "source": [
    "### Human rights data"
   ]
  },
  {
   "cell_type": "code",
   "execution_count": 7,
   "metadata": {},
   "outputs": [
    {
     "data": {
      "text/html": [
       "<div>\n",
       "<style scoped>\n",
       "    .dataframe tbody tr th:only-of-type {\n",
       "        vertical-align: middle;\n",
       "    }\n",
       "\n",
       "    .dataframe tbody tr th {\n",
       "        vertical-align: top;\n",
       "    }\n",
       "\n",
       "    .dataframe thead th {\n",
       "        text-align: right;\n",
       "    }\n",
       "</style>\n",
       "<table border=\"1\" class=\"dataframe\">\n",
       "  <thead>\n",
       "    <tr style=\"text-align: right;\">\n",
       "      <th></th>\n",
       "      <th>Country</th>\n",
       "      <th>Year</th>\n",
       "      <th>Human Rights Score</th>\n",
       "    </tr>\n",
       "  </thead>\n",
       "  <tbody>\n",
       "  </tbody>\n",
       "</table>\n",
       "</div>"
      ],
      "text/plain": [
       "Empty DataFrame\n",
       "Columns: [Country, Year, Human Rights Score]\n",
       "Index: []"
      ]
     },
     "execution_count": 7,
     "metadata": {},
     "output_type": "execute_result"
    }
   ],
   "source": [
    "hr_df = pd.read_csv('../data/human_rights.csv')\n",
    "\n",
    "# Filter to 2015-2021\n",
    "hr_df = hr_df.loc[hr_df['Year'].isin(range(start_year, end_year+1))]\n",
    "\n",
    "# Drop and rename columns\n",
    "hr_df.drop(columns=['Code', 'region'], inplace=True)\n",
    "hr_df.rename(columns={'Entity': 'Country', 'civ_libs_vdem_owid':'Human Rights Score'}, inplace=True)\n",
    "\n",
    "# Filter to country set\n",
    "hr_df = hr_df[hr_df['Country'].isin(country_set)]\n",
    "\n",
    "hr_df.loc[hr_df['Human Rights Score'].isna()]"
   ]
  },
  {
   "attachments": {},
   "cell_type": "markdown",
   "metadata": {},
   "source": [
    "### CO2 emissions per capita data"
   ]
  },
  {
   "cell_type": "code",
   "execution_count": 8,
   "metadata": {},
   "outputs": [
    {
     "data": {
      "text/html": [
       "<div>\n",
       "<style scoped>\n",
       "    .dataframe tbody tr th:only-of-type {\n",
       "        vertical-align: middle;\n",
       "    }\n",
       "\n",
       "    .dataframe tbody tr th {\n",
       "        vertical-align: top;\n",
       "    }\n",
       "\n",
       "    .dataframe thead th {\n",
       "        text-align: right;\n",
       "    }\n",
       "</style>\n",
       "<table border=\"1\" class=\"dataframe\">\n",
       "  <thead>\n",
       "    <tr style=\"text-align: right;\">\n",
       "      <th></th>\n",
       "      <th>Country</th>\n",
       "      <th>Year</th>\n",
       "      <th>CO2 Emissions per capita in tons</th>\n",
       "    </tr>\n",
       "  </thead>\n",
       "  <tbody>\n",
       "  </tbody>\n",
       "</table>\n",
       "</div>"
      ],
      "text/plain": [
       "Empty DataFrame\n",
       "Columns: [Country, Year, CO2 Emissions per capita in tons]\n",
       "Index: []"
      ]
     },
     "execution_count": 8,
     "metadata": {},
     "output_type": "execute_result"
    }
   ],
   "source": [
    "co2_df = pd.read_excel('../data/co2_emissions.xlsx', sheet_name='fossil_CO2_per_capita_by_countr')\n",
    "\n",
    "# Drop unnecessary columns\n",
    "co2_df.drop(columns=['EDGAR Country Code','Substance'], inplace=True)\n",
    "\n",
    "# Melt frame\n",
    "co2_df = pd.melt(co2_df, id_vars=['Country'], var_name='Year', value_name='CO2 Emissions per capita in tons')\n",
    "\n",
    "# Filter to 2015-2021\n",
    "co2_df = co2_df.loc[co2_df['Year'].isin(range(start_year, end_year+1))]\n",
    "\n",
    "# Filter to country set\n",
    "co2_df = co2_df[co2_df['Country'].isin(country_set)]\n",
    "\n",
    "co2_df.loc[co2_df['CO2 Emissions per capita in tons'].isna()]"
   ]
  },
  {
   "attachments": {},
   "cell_type": "markdown",
   "metadata": {},
   "source": [
    "### Population growth in % data"
   ]
  },
  {
   "cell_type": "code",
   "execution_count": 9,
   "metadata": {},
   "outputs": [
    {
     "data": {
      "text/html": [
       "<div>\n",
       "<style scoped>\n",
       "    .dataframe tbody tr th:only-of-type {\n",
       "        vertical-align: middle;\n",
       "    }\n",
       "\n",
       "    .dataframe tbody tr th {\n",
       "        vertical-align: top;\n",
       "    }\n",
       "\n",
       "    .dataframe thead th {\n",
       "        text-align: right;\n",
       "    }\n",
       "</style>\n",
       "<table border=\"1\" class=\"dataframe\">\n",
       "  <thead>\n",
       "    <tr style=\"text-align: right;\">\n",
       "      <th></th>\n",
       "      <th>Country</th>\n",
       "      <th>Year</th>\n",
       "      <th>Population Growth % per year</th>\n",
       "    </tr>\n",
       "  </thead>\n",
       "  <tbody>\n",
       "  </tbody>\n",
       "</table>\n",
       "</div>"
      ],
      "text/plain": [
       "Empty DataFrame\n",
       "Columns: [Country, Year, Population Growth % per year]\n",
       "Index: []"
      ]
     },
     "execution_count": 9,
     "metadata": {},
     "output_type": "execute_result"
    }
   ],
   "source": [
    "pg_df = pd.read_csv('../data/population_growth.csv')\n",
    "\n",
    "# Remove unnecessary columns\n",
    "pg_df.drop(columns=['Country Code', 'Indicator Name', 'Indicator Code', '1960', 'Unnamed: 67'], inplace=True)\n",
    "\n",
    "# Rename country column to match other frames\n",
    "pg_df.rename(columns={'Country Name': 'Country'}, inplace=True)\n",
    "\n",
    "# Melt frame\n",
    "pg_df = pd.melt(pg_df, id_vars=['Country'], var_name='Year', value_name='Population Growth % per year')\n",
    "\n",
    "# Convert Year to int\n",
    "pg_df['Year'] = pg_df['Year'].astype(int)\n",
    "\n",
    "# Filter to 2015-2021\n",
    "pg_df = pg_df.loc[pg_df['Year'].isin(range(start_year, end_year+1))]\n",
    "\n",
    "# Filter to country set\n",
    "pg_df = pg_df[pg_df['Country'].isin(country_set)]\n",
    "\n",
    "pg_df.loc[pg_df['Population Growth % per year'].isna()]"
   ]
  },
  {
   "attachments": {},
   "cell_type": "markdown",
   "metadata": {},
   "source": [
    "### Military expenditure % of GDP data"
   ]
  },
  {
   "cell_type": "code",
   "execution_count": 10,
   "metadata": {},
   "outputs": [
    {
     "data": {
      "text/html": [
       "<div>\n",
       "<style scoped>\n",
       "    .dataframe tbody tr th:only-of-type {\n",
       "        vertical-align: middle;\n",
       "    }\n",
       "\n",
       "    .dataframe tbody tr th {\n",
       "        vertical-align: top;\n",
       "    }\n",
       "\n",
       "    .dataframe thead th {\n",
       "        text-align: right;\n",
       "    }\n",
       "</style>\n",
       "<table border=\"1\" class=\"dataframe\">\n",
       "  <thead>\n",
       "    <tr style=\"text-align: right;\">\n",
       "      <th></th>\n",
       "      <th>Country</th>\n",
       "      <th>Year</th>\n",
       "      <th>Military Expenditure % of GDP</th>\n",
       "    </tr>\n",
       "  </thead>\n",
       "  <tbody>\n",
       "  </tbody>\n",
       "</table>\n",
       "</div>"
      ],
      "text/plain": [
       "Empty DataFrame\n",
       "Columns: [Country, Year, Military Expenditure % of GDP]\n",
       "Index: []"
      ]
     },
     "execution_count": 10,
     "metadata": {},
     "output_type": "execute_result"
    }
   ],
   "source": [
    "me_df = pd.read_csv('../data/military_expenditure.csv')\n",
    "\n",
    "# Drop unnecessary columns\n",
    "me_df.drop(columns=['Country Code', 'Indicator Name', 'Indicator Code', '1960', 'Unnamed: 67'], inplace=True)\n",
    "\n",
    "# Rename country column to match other frames\n",
    "me_df.rename(columns={'Country Name': 'Country'}, inplace=True)\n",
    "\n",
    "# Melt frame\n",
    "me_df = pd.melt(me_df, id_vars=['Country'], var_name='Year', value_name='Military Expenditure % of GDP')\n",
    "\n",
    "# Convert Year to int\n",
    "me_df['Year'] = me_df['Year'].astype(int)\n",
    "\n",
    "# Filter to 2015-2021\n",
    "me_df = me_df.loc[me_df['Year'].isin(range(start_year, end_year+1))]\n",
    "\n",
    "# Filter to country set\n",
    "me_df = me_df[me_df['Country'].isin(country_set)]\n",
    "\n",
    "me_df.loc[me_df['Military Expenditure % of GDP'].isna()]"
   ]
  },
  {
   "attachments": {},
   "cell_type": "markdown",
   "metadata": {},
   "source": [
    "### Inflation of consumer prices data"
   ]
  },
  {
   "cell_type": "code",
   "execution_count": 11,
   "metadata": {},
   "outputs": [
    {
     "data": {
      "text/html": [
       "<div>\n",
       "<style scoped>\n",
       "    .dataframe tbody tr th:only-of-type {\n",
       "        vertical-align: middle;\n",
       "    }\n",
       "\n",
       "    .dataframe tbody tr th {\n",
       "        vertical-align: top;\n",
       "    }\n",
       "\n",
       "    .dataframe thead th {\n",
       "        text-align: right;\n",
       "    }\n",
       "</style>\n",
       "<table border=\"1\" class=\"dataframe\">\n",
       "  <thead>\n",
       "    <tr style=\"text-align: right;\">\n",
       "      <th></th>\n",
       "      <th>Country</th>\n",
       "      <th>Year</th>\n",
       "      <th>Inflation % consumer prices</th>\n",
       "    </tr>\n",
       "  </thead>\n",
       "  <tbody>\n",
       "  </tbody>\n",
       "</table>\n",
       "</div>"
      ],
      "text/plain": [
       "Empty DataFrame\n",
       "Columns: [Country, Year, Inflation % consumer prices]\n",
       "Index: []"
      ]
     },
     "execution_count": 11,
     "metadata": {},
     "output_type": "execute_result"
    }
   ],
   "source": [
    "if_df = pd.read_csv('../data/inflation_consumer_prices.csv')\n",
    "\n",
    "# Drop unnecessary columns\n",
    "if_df.drop(columns=['Country Code', 'Indicator Name', 'Indicator Code', '1960', 'Unnamed: 67'], inplace=True)\n",
    "\n",
    "# Rename country column to match other frames\n",
    "if_df.rename(columns={'Country Name': 'Country'}, inplace=True)\n",
    "\n",
    "# Melt frame\n",
    "if_df = pd.melt(if_df, id_vars=['Country'], var_name='Year', value_name='Inflation % consumer prices')\n",
    "\n",
    "# Convert Year to int\n",
    "if_df['Year'] = if_df['Year'].astype(int)\n",
    "\n",
    "# Filter to 2015-2021\n",
    "if_df = if_df.loc[if_df['Year'].isin(range(start_year, end_year+1))]\n",
    "\n",
    "# Filter to country set\n",
    "if_df = if_df[if_df['Country'].isin(country_set)]\n",
    "\n",
    "if_df.loc[if_df['Inflation % consumer prices'].isna()]"
   ]
  },
  {
   "attachments": {},
   "cell_type": "markdown",
   "metadata": {},
   "source": [
    "### Power consumption per capita data"
   ]
  },
  {
   "cell_type": "code",
   "execution_count": 15,
   "metadata": {
    "tags": []
   },
   "outputs": [
    {
     "data": {
      "text/html": [
       "<div>\n",
       "<style scoped>\n",
       "    .dataframe tbody tr th:only-of-type {\n",
       "        vertical-align: middle;\n",
       "    }\n",
       "\n",
       "    .dataframe tbody tr th {\n",
       "        vertical-align: top;\n",
       "    }\n",
       "\n",
       "    .dataframe thead th {\n",
       "        text-align: right;\n",
       "    }\n",
       "</style>\n",
       "<table border=\"1\" class=\"dataframe\">\n",
       "  <thead>\n",
       "    <tr style=\"text-align: right;\">\n",
       "      <th></th>\n",
       "      <th>Country</th>\n",
       "      <th>Year</th>\n",
       "      <th>Primary energy consumption per capita (kWh/person)</th>\n",
       "    </tr>\n",
       "  </thead>\n",
       "  <tbody>\n",
       "  </tbody>\n",
       "</table>\n",
       "</div>"
      ],
      "text/plain": [
       "Empty DataFrame\n",
       "Columns: [Country, Year, Primary energy consumption per capita (kWh/person)]\n",
       "Index: []"
      ]
     },
     "execution_count": 15,
     "metadata": {},
     "output_type": "execute_result"
    }
   ],
   "source": [
    "pc_df = pd.read_csv('../data/per-capita-energy-use.csv')\n",
    "\n",
    "# Drop unnecessary columns\n",
    "pc_df.drop(columns=['Code'], inplace=True)\n",
    "\n",
    "# Rename country column to match other frames\n",
    "pc_df.rename(columns={'Entity': 'Country'}, inplace=True)\n",
    "\n",
    "# Filter to 2015-2021\n",
    "pc_df = pc_df.loc[pc_df['Year'].isin(range(start_year, end_year+1))]\n",
    "\n",
    "# Filter to country set\n",
    "pc_df = pc_df[pc_df['Country'].isin(country_set)]\n",
    "\n",
    "pc_df.loc[pc_df['Primary energy consumption per capita (kWh/person)'].isna()]"
   ]
  },
  {
   "attachments": {},
   "cell_type": "markdown",
   "metadata": {},
   "source": [
    "### Rural population % of total population data"
   ]
  },
  {
   "cell_type": "code",
   "execution_count": 19,
   "metadata": {},
   "outputs": [
    {
     "data": {
      "text/html": [
       "<div>\n",
       "<style scoped>\n",
       "    .dataframe tbody tr th:only-of-type {\n",
       "        vertical-align: middle;\n",
       "    }\n",
       "\n",
       "    .dataframe tbody tr th {\n",
       "        vertical-align: top;\n",
       "    }\n",
       "\n",
       "    .dataframe thead th {\n",
       "        text-align: right;\n",
       "    }\n",
       "</style>\n",
       "<table border=\"1\" class=\"dataframe\">\n",
       "  <thead>\n",
       "    <tr style=\"text-align: right;\">\n",
       "      <th></th>\n",
       "      <th>Country</th>\n",
       "      <th>Year</th>\n",
       "      <th>Rural Population % of total population</th>\n",
       "    </tr>\n",
       "  </thead>\n",
       "  <tbody>\n",
       "  </tbody>\n",
       "</table>\n",
       "</div>"
      ],
      "text/plain": [
       "Empty DataFrame\n",
       "Columns: [Country, Year, Rural Population % of total population]\n",
       "Index: []"
      ]
     },
     "execution_count": 19,
     "metadata": {},
     "output_type": "execute_result"
    }
   ],
   "source": [
    "rp_df = pd.read_csv('../data/rural_population.csv')\n",
    "\n",
    "# Drop unnecessary columns\n",
    "rp_df.drop(columns=['Country Code', 'Indicator Name', 'Indicator Code', 'Unnamed: 67'], inplace=True)\n",
    "\n",
    "# Rename country column to match other frames\n",
    "rp_df.rename(columns={'Country Name': 'Country'}, inplace=True)\n",
    "\n",
    "# Melt frame\n",
    "rp_df = pd.melt(rp_df, id_vars=['Country'], var_name='Year', value_name='Rural Population % of total population')\n",
    "\n",
    "# Convert Year to int\n",
    "rp_df['Year'] = rp_df['Year'].astype(int)\n",
    "\n",
    "# Filter to 2015-2021\n",
    "rp_df = rp_df.loc[rp_df['Year'].isin(range(start_year, end_year+1))]\n",
    "\n",
    "# Filter to country set\n",
    "rp_df = rp_df[rp_df['Country'].isin(country_set)]\n",
    "\n",
    "rp_df.loc[rp_df['Rural Population % of total population'].isna()]"
   ]
  },
  {
   "attachments": {},
   "cell_type": "markdown",
   "metadata": {},
   "source": [
    "# Data analysis with Random Forest Regressor"
   ]
  },
  {
   "cell_type": "code",
   "execution_count": 46,
   "metadata": {},
   "outputs": [
    {
     "ename": "NameError",
     "evalue": "name 'x' is not defined",
     "output_type": "error",
     "traceback": [
      "\u001b[0;31m---------------------------------------------------------------------------\u001b[0m",
      "\u001b[0;31mNameError\u001b[0m                                 Traceback (most recent call last)",
      "Cell \u001b[0;32mIn[46], line 2\u001b[0m\n\u001b[1;32m      1\u001b[0m forest \u001b[39m=\u001b[39m RandomForestRegressor(\u001b[39m200\u001b[39m) \u001b[39m# Number of decision trees\u001b[39;00m\n\u001b[0;32m----> 2\u001b[0m forest\u001b[39m.\u001b[39mfit(x[:, \u001b[39mNone\u001b[39;00m], y)\n\u001b[1;32m      4\u001b[0m xfit \u001b[39m=\u001b[39m np\u001b[39m.\u001b[39mlinspace(\u001b[39m0\u001b[39m, \u001b[39m10\u001b[39m, \u001b[39m1000\u001b[39m)\n\u001b[1;32m      5\u001b[0m yfit \u001b[39m=\u001b[39m forest\u001b[39m.\u001b[39mpredict(xfit[:, \u001b[39mNone\u001b[39;00m])\n",
      "\u001b[0;31mNameError\u001b[0m: name 'x' is not defined"
     ]
    }
   ],
   "source": [
    "forest = RandomForestRegressor(200) # Number of decision trees\n",
    "forest.fit(x[:, None], y)\n",
    "\n",
    "xfit = np.linspace(0, 10, 1000)\n",
    "yfit = forest.predict(xfit[:, None])\n",
    "ytrue = model(xfit, sigma=0)\n",
    "\n",
    "plt.errorbar(x, y, 0.3, fmt='o', alpha=0.5)\n",
    "plt.plot(xfit, yfit, '-r');\n",
    "plt.plot(xfit, ytrue, '-k', alpha=0.5);"
   ]
  }
 ],
 "metadata": {
  "kernelspec": {
   "display_name": "Python 3",
   "language": "python",
   "name": "python3"
  },
  "language_info": {
   "codemirror_mode": {
    "name": "ipython",
    "version": 3
   },
   "file_extension": ".py",
   "mimetype": "text/x-python",
   "name": "python",
   "nbconvert_exporter": "python",
   "pygments_lexer": "ipython3",
   "version": "3.10.4"
  },
  "orig_nbformat": 4
 },
 "nbformat": 4,
 "nbformat_minor": 2
}
