{
 "cells": [
  {
   "cell_type": "code",
   "execution_count": 2,
   "metadata": {},
   "outputs": [
    {
     "name": "stdout",
     "output_type": "stream",
     "text": [
      "   Country Code  Year      Value\n",
      "0  Nigeria   NG  2015  2495.8630\n",
      "1  Nigeria   NG  2016  2488.9487\n",
      "2  Nigeria   NG  2017  2358.9058\n",
      "3  Nigeria   NG  2018  2444.4602\n",
      "4  Nigeria   NG  2019  2452.6533\n",
      "5  Nigeria   NG  2020  2448.1662\n",
      "6  Nigeria   NG  2021  2448.1662\n"
     ]
    }
   ],
   "source": [
    "import pandas as pd\n",
    "from sklearn.impute import KNNImputer\n",
    "\n",
    "# Erstelle den Beispiel-Datensatz\n",
    "data = {\n",
    "    'Country': ['Nigeria', 'Nigeria', 'Nigeria', 'Nigeria', 'Nigeria', 'Nigeria', 'Nigeria'],\n",
    "    'Code': ['NG', 'NG', 'NG', 'NG', 'NG', 'NG', 'NG'],\n",
    "    'Year': [2015, 2016, 2017, 2018, 2019, 2020, 2021],\n",
    "    'Value': [2495.863, 2488.9487, 2358.9058, 2444.4602, 2452.6533, None, None]\n",
    "}\n",
    "\n",
    "df = pd.DataFrame(data)\n",
    "\n",
    "# Sortiere den Datensatz nach dem Jahr\n",
    "df = df.sort_values('Year')\n",
    "\n",
    "# Konvertiere den 'Year'-Spaltenwert in eine Zeichenkette\n",
    "df['Year'] = df['Year'].astype(str)\n",
    "\n",
    "# Erstelle eine Kopie des Datensatzes für die Imputation\n",
    "impute_df = df.copy()\n",
    "\n",
    "# Erzeuge ein KNNImputer-Objekt\n",
    "imputer = KNNImputer(n_neighbors=3)\n",
    "\n",
    "# Führe die Imputation durch\n",
    "imputed_values = imputer.fit_transform(impute_df[['Value']])\n",
    "\n",
    "# Aktualisiere die fehlenden Werte im Originaldatensatz\n",
    "df.loc[:, 'Value'] = imputed_values\n",
    "\n",
    "# Gib den imputierten Datensatz aus\n",
    "print(df)"
   ]
  }
 ],
 "metadata": {
  "kernelspec": {
   "display_name": "Python 3",
   "language": "python",
   "name": "python3"
  },
  "language_info": {
   "codemirror_mode": {
    "name": "ipython",
    "version": 3
   },
   "file_extension": ".py",
   "mimetype": "text/x-python",
   "name": "python",
   "nbconvert_exporter": "python",
   "pygments_lexer": "ipython3",
   "version": "3.10.4"
  },
  "orig_nbformat": 4
 },
 "nbformat": 4,
 "nbformat_minor": 2
}
